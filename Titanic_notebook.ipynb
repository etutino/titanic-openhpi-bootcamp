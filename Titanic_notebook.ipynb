{
 "cells": [
  {
   "cell_type": "markdown",
   "metadata": {
    "id": "fC6YZq1T09Dy"
   },
   "source": [
    "# Final Project\n",
    "\n",
    "Welcome to the final practical project for our course on [Data Science Bootcamp](https://open.hpi.de/courses/datascience2023). Throughout this project, you will go through the entire data science process, starting from data loading and cleaning, all the way to running a model and making predictions. This hands-on project will provide you with valuable experience and allow you to apply the concepts and techniques you've learned in the course. Get ready to dive into real-world data analysis and build your skills as a data scientist!\n",
    "\n",
    "\n",
    "## Important Remarks:\n",
    "\n",
    " - The ultimate goal of this project is to conduct comprehensive data analysis and build 2 models using the provided datasets.\n",
    " - Code is not the only thing graded here. Well-written and understandable documentation of your code is to be expected\n",
    " - Clear reasoning behind your choices in every step of the notebook is important. Be it the choice of a data cleaning technique or selecting certain features in your analysis or the choice of your 2 models"
   ]
  },
  {
   "cell_type": "markdown",
   "metadata": {
    "id": "EvlhTZt71Xzi"
   },
   "source": [
    "# Importing packages\n"
   ]
  },
  {
   "cell_type": "code",
   "execution_count": 1,
   "metadata": {
    "id": "PzZMiUnjdgNn"
   },
   "outputs": [],
   "source": [
    "import pandas as pd\n",
    "import seaborn as sns\n",
    "import matplotlib.pyplot as plt\n",
    "from sklearn import linear_model\n",
    "from sklearn.model_selection import train_test_split\n",
    "from sklearn.preprocessing import StandardScaler\n",
    "from sklearn.preprocessing import LabelEncoder\n",
    "from sklearn.linear_model import LogisticRegression\n",
    "from sklearn.metrics import classification_report, confusion_matrix\n",
    "from sklearn.tree import DecisionTreeRegressor\n",
    "from sklearn import metrics"
   ]
  },
  {
   "cell_type": "markdown",
   "metadata": {
    "id": "R_Lk-tt21knC"
   },
   "source": [
    "# Load the dataset into data\n"
   ]
  },
  {
   "cell_type": "code",
   "execution_count": 2,
   "metadata": {
    "id": "iVZhzqSfdg0L"
   },
   "outputs": [],
   "source": [
    "#Loading the Titanic dataset\n",
    "data = pd.read_csv('titanic.csv')"
   ]
  },
  {
   "cell_type": "markdown",
   "metadata": {
    "id": "7U5Lt7Wc1-0o"
   },
   "source": [
    "# Dataset overview and statistical summary\n"
   ]
  },
  {
   "cell_type": "code",
   "execution_count": 3,
   "metadata": {},
   "outputs": [
    {
     "data": {
      "text/html": [
       "<div>\n",
       "<style scoped>\n",
       "    .dataframe tbody tr th:only-of-type {\n",
       "        vertical-align: middle;\n",
       "    }\n",
       "\n",
       "    .dataframe tbody tr th {\n",
       "        vertical-align: top;\n",
       "    }\n",
       "\n",
       "    .dataframe thead th {\n",
       "        text-align: right;\n",
       "    }\n",
       "</style>\n",
       "<table border=\"1\" class=\"dataframe\">\n",
       "  <thead>\n",
       "    <tr style=\"text-align: right;\">\n",
       "      <th></th>\n",
       "      <th>PassengerId</th>\n",
       "      <th>Survived</th>\n",
       "      <th>Pclass</th>\n",
       "      <th>Name</th>\n",
       "      <th>Sex</th>\n",
       "      <th>Age</th>\n",
       "      <th>SibSp</th>\n",
       "      <th>Parch</th>\n",
       "      <th>Ticket</th>\n",
       "      <th>Fare</th>\n",
       "      <th>Cabin</th>\n",
       "      <th>Embarked</th>\n",
       "    </tr>\n",
       "  </thead>\n",
       "  <tbody>\n",
       "    <tr>\n",
       "      <th>0</th>\n",
       "      <td>1</td>\n",
       "      <td>0</td>\n",
       "      <td>3</td>\n",
       "      <td>Braund, Mr. Owen Harris</td>\n",
       "      <td>male</td>\n",
       "      <td>22.0</td>\n",
       "      <td>1</td>\n",
       "      <td>0</td>\n",
       "      <td>A/5 21171</td>\n",
       "      <td>7.2500</td>\n",
       "      <td>NaN</td>\n",
       "      <td>S</td>\n",
       "    </tr>\n",
       "    <tr>\n",
       "      <th>1</th>\n",
       "      <td>2</td>\n",
       "      <td>1</td>\n",
       "      <td>1</td>\n",
       "      <td>Cumings, Mrs. John Bradley (Florence Briggs Th...</td>\n",
       "      <td>female</td>\n",
       "      <td>38.0</td>\n",
       "      <td>1</td>\n",
       "      <td>0</td>\n",
       "      <td>PC 17599</td>\n",
       "      <td>71.2833</td>\n",
       "      <td>C85</td>\n",
       "      <td>C</td>\n",
       "    </tr>\n",
       "    <tr>\n",
       "      <th>2</th>\n",
       "      <td>3</td>\n",
       "      <td>1</td>\n",
       "      <td>3</td>\n",
       "      <td>Heikkinen, Miss. Laina</td>\n",
       "      <td>female</td>\n",
       "      <td>26.0</td>\n",
       "      <td>0</td>\n",
       "      <td>0</td>\n",
       "      <td>STON/O2. 3101282</td>\n",
       "      <td>7.9250</td>\n",
       "      <td>NaN</td>\n",
       "      <td>S</td>\n",
       "    </tr>\n",
       "    <tr>\n",
       "      <th>3</th>\n",
       "      <td>4</td>\n",
       "      <td>1</td>\n",
       "      <td>1</td>\n",
       "      <td>Futrelle, Mrs. Jacques Heath (Lily May Peel)</td>\n",
       "      <td>female</td>\n",
       "      <td>35.0</td>\n",
       "      <td>1</td>\n",
       "      <td>0</td>\n",
       "      <td>113803</td>\n",
       "      <td>53.1000</td>\n",
       "      <td>C123</td>\n",
       "      <td>S</td>\n",
       "    </tr>\n",
       "    <tr>\n",
       "      <th>4</th>\n",
       "      <td>5</td>\n",
       "      <td>0</td>\n",
       "      <td>3</td>\n",
       "      <td>Allen, Mr. William Henry</td>\n",
       "      <td>male</td>\n",
       "      <td>35.0</td>\n",
       "      <td>0</td>\n",
       "      <td>0</td>\n",
       "      <td>373450</td>\n",
       "      <td>8.0500</td>\n",
       "      <td>NaN</td>\n",
       "      <td>S</td>\n",
       "    </tr>\n",
       "  </tbody>\n",
       "</table>\n",
       "</div>"
      ],
      "text/plain": [
       "   PassengerId  Survived  Pclass  \\\n",
       "0            1         0       3   \n",
       "1            2         1       1   \n",
       "2            3         1       3   \n",
       "3            4         1       1   \n",
       "4            5         0       3   \n",
       "\n",
       "                                                Name     Sex   Age  SibSp  \\\n",
       "0                            Braund, Mr. Owen Harris    male  22.0      1   \n",
       "1  Cumings, Mrs. John Bradley (Florence Briggs Th...  female  38.0      1   \n",
       "2                             Heikkinen, Miss. Laina  female  26.0      0   \n",
       "3       Futrelle, Mrs. Jacques Heath (Lily May Peel)  female  35.0      1   \n",
       "4                           Allen, Mr. William Henry    male  35.0      0   \n",
       "\n",
       "   Parch            Ticket     Fare Cabin Embarked  \n",
       "0      0         A/5 21171   7.2500   NaN        S  \n",
       "1      0          PC 17599  71.2833   C85        C  \n",
       "2      0  STON/O2. 3101282   7.9250   NaN        S  \n",
       "3      0            113803  53.1000  C123        S  \n",
       "4      0            373450   8.0500   NaN        S  "
      ]
     },
     "execution_count": 3,
     "metadata": {},
     "output_type": "execute_result"
    }
   ],
   "source": [
    "#Previewing the first 5 rows of the data\n",
    "data.head(5)"
   ]
  },
  {
   "cell_type": "code",
   "execution_count": 4,
   "metadata": {},
   "outputs": [
    {
     "name": "stdout",
     "output_type": "stream",
     "text": [
      "<class 'pandas.core.frame.DataFrame'>\n",
      "RangeIndex: 1000 entries, 0 to 999\n",
      "Data columns (total 12 columns):\n",
      " #   Column       Non-Null Count  Dtype  \n",
      "---  ------       --------------  -----  \n",
      " 0   PassengerId  1000 non-null   int64  \n",
      " 1   Survived     1000 non-null   int64  \n",
      " 2   Pclass       1000 non-null   int64  \n",
      " 3   Name         1000 non-null   object \n",
      " 4   Sex          1000 non-null   object \n",
      " 5   Age          823 non-null    float64\n",
      " 6   SibSp        1000 non-null   int64  \n",
      " 7   Parch        1000 non-null   int64  \n",
      " 8   Ticket       1000 non-null   object \n",
      " 9   Fare         1000 non-null   float64\n",
      " 10  Cabin        299 non-null    object \n",
      " 11  Embarked     998 non-null    object \n",
      "dtypes: float64(2), int64(5), object(5)\n",
      "memory usage: 93.9+ KB\n"
     ]
    }
   ],
   "source": [
    "#Reviewing information about the dataframe\n",
    "data.info()"
   ]
  },
  {
   "cell_type": "code",
   "execution_count": 5,
   "metadata": {},
   "outputs": [
    {
     "data": {
      "text/html": [
       "<div>\n",
       "<style scoped>\n",
       "    .dataframe tbody tr th:only-of-type {\n",
       "        vertical-align: middle;\n",
       "    }\n",
       "\n",
       "    .dataframe tbody tr th {\n",
       "        vertical-align: top;\n",
       "    }\n",
       "\n",
       "    .dataframe thead th {\n",
       "        text-align: right;\n",
       "    }\n",
       "</style>\n",
       "<table border=\"1\" class=\"dataframe\">\n",
       "  <thead>\n",
       "    <tr style=\"text-align: right;\">\n",
       "      <th></th>\n",
       "      <th>PassengerId</th>\n",
       "      <th>Survived</th>\n",
       "      <th>Pclass</th>\n",
       "      <th>Age</th>\n",
       "      <th>SibSp</th>\n",
       "      <th>Parch</th>\n",
       "      <th>Fare</th>\n",
       "    </tr>\n",
       "  </thead>\n",
       "  <tbody>\n",
       "    <tr>\n",
       "      <th>count</th>\n",
       "      <td>1000.000000</td>\n",
       "      <td>1000.000000</td>\n",
       "      <td>1000.000000</td>\n",
       "      <td>823.000000</td>\n",
       "      <td>1000.000000</td>\n",
       "      <td>1000.000000</td>\n",
       "      <td>1000.000000</td>\n",
       "    </tr>\n",
       "    <tr>\n",
       "      <th>mean</th>\n",
       "      <td>500.500000</td>\n",
       "      <td>0.404000</td>\n",
       "      <td>2.274000</td>\n",
       "      <td>30.177606</td>\n",
       "      <td>0.716000</td>\n",
       "      <td>0.571000</td>\n",
       "      <td>56.732249</td>\n",
       "    </tr>\n",
       "    <tr>\n",
       "      <th>std</th>\n",
       "      <td>288.819436</td>\n",
       "      <td>0.490943</td>\n",
       "      <td>0.840018</td>\n",
       "      <td>15.138305</td>\n",
       "      <td>1.312656</td>\n",
       "      <td>1.046926</td>\n",
       "      <td>98.014902</td>\n",
       "    </tr>\n",
       "    <tr>\n",
       "      <th>min</th>\n",
       "      <td>1.000000</td>\n",
       "      <td>0.000000</td>\n",
       "      <td>1.000000</td>\n",
       "      <td>0.420000</td>\n",
       "      <td>0.000000</td>\n",
       "      <td>0.000000</td>\n",
       "      <td>0.000000</td>\n",
       "    </tr>\n",
       "    <tr>\n",
       "      <th>25%</th>\n",
       "      <td>250.750000</td>\n",
       "      <td>0.000000</td>\n",
       "      <td>1.000000</td>\n",
       "      <td>21.000000</td>\n",
       "      <td>0.000000</td>\n",
       "      <td>0.000000</td>\n",
       "      <td>8.050000</td>\n",
       "    </tr>\n",
       "    <tr>\n",
       "      <th>50%</th>\n",
       "      <td>500.500000</td>\n",
       "      <td>0.000000</td>\n",
       "      <td>3.000000</td>\n",
       "      <td>29.000000</td>\n",
       "      <td>0.000000</td>\n",
       "      <td>0.000000</td>\n",
       "      <td>17.600000</td>\n",
       "    </tr>\n",
       "    <tr>\n",
       "      <th>75%</th>\n",
       "      <td>750.250000</td>\n",
       "      <td>1.000000</td>\n",
       "      <td>3.000000</td>\n",
       "      <td>39.500000</td>\n",
       "      <td>1.000000</td>\n",
       "      <td>1.000000</td>\n",
       "      <td>52.000000</td>\n",
       "    </tr>\n",
       "    <tr>\n",
       "      <th>max</th>\n",
       "      <td>1000.000000</td>\n",
       "      <td>1.000000</td>\n",
       "      <td>3.000000</td>\n",
       "      <td>80.000000</td>\n",
       "      <td>8.000000</td>\n",
       "      <td>6.000000</td>\n",
       "      <td>512.329200</td>\n",
       "    </tr>\n",
       "  </tbody>\n",
       "</table>\n",
       "</div>"
      ],
      "text/plain": [
       "       PassengerId     Survived       Pclass         Age        SibSp  \\\n",
       "count  1000.000000  1000.000000  1000.000000  823.000000  1000.000000   \n",
       "mean    500.500000     0.404000     2.274000   30.177606     0.716000   \n",
       "std     288.819436     0.490943     0.840018   15.138305     1.312656   \n",
       "min       1.000000     0.000000     1.000000    0.420000     0.000000   \n",
       "25%     250.750000     0.000000     1.000000   21.000000     0.000000   \n",
       "50%     500.500000     0.000000     3.000000   29.000000     0.000000   \n",
       "75%     750.250000     1.000000     3.000000   39.500000     1.000000   \n",
       "max    1000.000000     1.000000     3.000000   80.000000     8.000000   \n",
       "\n",
       "             Parch         Fare  \n",
       "count  1000.000000  1000.000000  \n",
       "mean      0.571000    56.732249  \n",
       "std       1.046926    98.014902  \n",
       "min       0.000000     0.000000  \n",
       "25%       0.000000     8.050000  \n",
       "50%       0.000000    17.600000  \n",
       "75%       1.000000    52.000000  \n",
       "max       6.000000   512.329200  "
      ]
     },
     "execution_count": 5,
     "metadata": {},
     "output_type": "execute_result"
    }
   ],
   "source": [
    "#Statistical summary of the data\n",
    "data.describe()"
   ]
  },
  {
   "cell_type": "markdown",
   "metadata": {
    "id": "AVxZeZ3E40_Y",
    "tags": []
   },
   "source": [
    "# Data cleaning"
   ]
  },
  {
   "cell_type": "code",
   "execution_count": 6,
   "metadata": {},
   "outputs": [
    {
     "data": {
      "text/plain": [
       "PassengerId      0\n",
       "Survived         0\n",
       "Pclass           0\n",
       "Name             0\n",
       "Sex              0\n",
       "Age            177\n",
       "SibSp            0\n",
       "Parch            0\n",
       "Ticket           0\n",
       "Fare             0\n",
       "Cabin          701\n",
       "Embarked         2\n",
       "dtype: int64"
      ]
     },
     "execution_count": 6,
     "metadata": {},
     "output_type": "execute_result"
    }
   ],
   "source": [
    "#Checking for any null values in the data\n",
    "data.isnull().sum()"
   ]
  },
  {
   "cell_type": "markdown",
   "metadata": {},
   "source": [
    "Let's fill in the missing data for the three columns with missing data (i.e., Age, Cabin and Embarked)"
   ]
  },
  {
   "cell_type": "markdown",
   "metadata": {},
   "source": [
    "### Data Cleaning - Age"
   ]
  },
  {
   "cell_type": "markdown",
   "metadata": {},
   "source": [
    "Because there is a wide range of ages, let's use the median to fill in missing values. The median refers to the middle number in the dataset. "
   ]
  },
  {
   "cell_type": "code",
   "execution_count": 7,
   "metadata": {},
   "outputs": [
    {
     "data": {
      "text/html": [
       "<div>\n",
       "<style scoped>\n",
       "    .dataframe tbody tr th:only-of-type {\n",
       "        vertical-align: middle;\n",
       "    }\n",
       "\n",
       "    .dataframe tbody tr th {\n",
       "        vertical-align: top;\n",
       "    }\n",
       "\n",
       "    .dataframe thead th {\n",
       "        text-align: right;\n",
       "    }\n",
       "</style>\n",
       "<table border=\"1\" class=\"dataframe\">\n",
       "  <thead>\n",
       "    <tr style=\"text-align: right;\">\n",
       "      <th></th>\n",
       "      <th></th>\n",
       "      <th>PassengerId</th>\n",
       "      <th>Survived</th>\n",
       "      <th>Age</th>\n",
       "      <th>SibSp</th>\n",
       "      <th>Parch</th>\n",
       "      <th>Fare</th>\n",
       "    </tr>\n",
       "    <tr>\n",
       "      <th>Pclass</th>\n",
       "      <th>Sex</th>\n",
       "      <th></th>\n",
       "      <th></th>\n",
       "      <th></th>\n",
       "      <th></th>\n",
       "      <th></th>\n",
       "      <th></th>\n",
       "    </tr>\n",
       "  </thead>\n",
       "  <tbody>\n",
       "    <tr>\n",
       "      <th rowspan=\"2\" valign=\"top\">1</th>\n",
       "      <th>female</th>\n",
       "      <td>539.0</td>\n",
       "      <td>1.0</td>\n",
       "      <td>35.0</td>\n",
       "      <td>1.0</td>\n",
       "      <td>0.0</td>\n",
       "      <td>86.5000</td>\n",
       "    </tr>\n",
       "    <tr>\n",
       "      <th>male</th>\n",
       "      <td>537.0</td>\n",
       "      <td>0.0</td>\n",
       "      <td>40.5</td>\n",
       "      <td>0.0</td>\n",
       "      <td>0.0</td>\n",
       "      <td>52.0000</td>\n",
       "    </tr>\n",
       "    <tr>\n",
       "      <th rowspan=\"2\" valign=\"top\">2</th>\n",
       "      <th>female</th>\n",
       "      <td>518.0</td>\n",
       "      <td>1.0</td>\n",
       "      <td>28.0</td>\n",
       "      <td>0.0</td>\n",
       "      <td>0.0</td>\n",
       "      <td>26.0000</td>\n",
       "    </tr>\n",
       "    <tr>\n",
       "      <th>male</th>\n",
       "      <td>549.0</td>\n",
       "      <td>0.0</td>\n",
       "      <td>30.0</td>\n",
       "      <td>0.0</td>\n",
       "      <td>0.0</td>\n",
       "      <td>14.2500</td>\n",
       "    </tr>\n",
       "    <tr>\n",
       "      <th rowspan=\"2\" valign=\"top\">3</th>\n",
       "      <th>female</th>\n",
       "      <td>428.0</td>\n",
       "      <td>1.0</td>\n",
       "      <td>22.0</td>\n",
       "      <td>0.0</td>\n",
       "      <td>0.0</td>\n",
       "      <td>14.4583</td>\n",
       "    </tr>\n",
       "    <tr>\n",
       "      <th>male</th>\n",
       "      <td>489.0</td>\n",
       "      <td>0.0</td>\n",
       "      <td>26.0</td>\n",
       "      <td>0.0</td>\n",
       "      <td>0.0</td>\n",
       "      <td>7.9250</td>\n",
       "    </tr>\n",
       "  </tbody>\n",
       "</table>\n",
       "</div>"
      ],
      "text/plain": [
       "               PassengerId  Survived   Age  SibSp  Parch     Fare\n",
       "Pclass Sex                                                       \n",
       "1      female        539.0       1.0  35.0    1.0    0.0  86.5000\n",
       "       male          537.0       0.0  40.5    0.0    0.0  52.0000\n",
       "2      female        518.0       1.0  28.0    0.0    0.0  26.0000\n",
       "       male          549.0       0.0  30.0    0.0    0.0  14.2500\n",
       "3      female        428.0       1.0  22.0    0.0    0.0  14.4583\n",
       "       male          489.0       0.0  26.0    0.0    0.0   7.9250"
      ]
     },
     "execution_count": 7,
     "metadata": {},
     "output_type": "execute_result"
    }
   ],
   "source": [
    "#Finding the median age for each Pclass by male and female\n",
    "data.groupby(['Pclass', 'Sex']).median('Age')"
   ]
  },
  {
   "cell_type": "code",
   "execution_count": 8,
   "metadata": {},
   "outputs": [],
   "source": [
    "#Filling in the missing age data based on median grouped by the Pclass and Sex \n",
    "data['Age'] = data['Age'].fillna(data.groupby(['Pclass', 'Sex'])['Age'].transform('median'))"
   ]
  },
  {
   "cell_type": "markdown",
   "metadata": {},
   "source": [
    "### Data Cleaning - Cabin"
   ]
  },
  {
   "cell_type": "markdown",
   "metadata": {},
   "source": [
    "Because we can't guess the exact cabin number the passenger was in for those that have missing data, let's fix the cabin data to just specify the cabin section they were in without the number (e.g., A, B, C)."
   ]
  },
  {
   "cell_type": "code",
   "execution_count": 9,
   "metadata": {},
   "outputs": [],
   "source": [
    "#Extracting just the cabin letter\n",
    "data['Cabin'] = data['Cabin'].str.extract(r'([A-Za-z])\\d*')"
   ]
  },
  {
   "cell_type": "markdown",
   "metadata": {},
   "source": [
    "Because the cabin is categorical data, let's use the mode to fill in missing data. The mode refers to the value that appears most often."
   ]
  },
  {
   "cell_type": "code",
   "execution_count": 10,
   "metadata": {},
   "outputs": [],
   "source": [
    "#Filling in the missing Cabin data based on the mode\n",
    "data['Cabin'] = data['Cabin'].fillna(value=data['Cabin'].mode()[0])"
   ]
  },
  {
   "cell_type": "markdown",
   "metadata": {},
   "source": [
    "### Data Cleaning - Embarked"
   ]
  },
  {
   "cell_type": "markdown",
   "metadata": {},
   "source": [
    "Embarked refers to the location where the passenger left. Because there are only 2 missing values from the data and because this is categorical data, let's use the mode to fill in missing data. The mode refers to the value that appears most often."
   ]
  },
  {
   "cell_type": "code",
   "execution_count": 11,
   "metadata": {},
   "outputs": [],
   "source": [
    "#Filling in the missing Embarked data based on the mode\n",
    "data['Embarked'] = data['Embarked'].fillna(value=data['Embarked'].mode()[0])"
   ]
  },
  {
   "cell_type": "markdown",
   "metadata": {
    "id": "uNvsFV4V7zbk"
   },
   "source": [
    "# EDA"
   ]
  },
  {
   "cell_type": "markdown",
   "metadata": {},
   "source": [
    "### General EDA\n",
    "Let's check the data again to see what has changed after adding the data for null values. "
   ]
  },
  {
   "cell_type": "code",
   "execution_count": 12,
   "metadata": {},
   "outputs": [
    {
     "data": {
      "text/plain": [
       "PassengerId    0\n",
       "Survived       0\n",
       "Pclass         0\n",
       "Name           0\n",
       "Sex            0\n",
       "Age            0\n",
       "SibSp          0\n",
       "Parch          0\n",
       "Ticket         0\n",
       "Fare           0\n",
       "Cabin          0\n",
       "Embarked       0\n",
       "dtype: int64"
      ]
     },
     "execution_count": 12,
     "metadata": {},
     "output_type": "execute_result"
    }
   ],
   "source": [
    "#Checking for any null values again to make sure everything has been filled in\n",
    "data.isnull().sum()"
   ]
  },
  {
   "cell_type": "code",
   "execution_count": 13,
   "metadata": {},
   "outputs": [
    {
     "data": {
      "text/html": [
       "<div>\n",
       "<style scoped>\n",
       "    .dataframe tbody tr th:only-of-type {\n",
       "        vertical-align: middle;\n",
       "    }\n",
       "\n",
       "    .dataframe tbody tr th {\n",
       "        vertical-align: top;\n",
       "    }\n",
       "\n",
       "    .dataframe thead th {\n",
       "        text-align: right;\n",
       "    }\n",
       "</style>\n",
       "<table border=\"1\" class=\"dataframe\">\n",
       "  <thead>\n",
       "    <tr style=\"text-align: right;\">\n",
       "      <th></th>\n",
       "      <th>PassengerId</th>\n",
       "      <th>Survived</th>\n",
       "      <th>Pclass</th>\n",
       "      <th>Age</th>\n",
       "      <th>SibSp</th>\n",
       "      <th>Parch</th>\n",
       "      <th>Fare</th>\n",
       "    </tr>\n",
       "  </thead>\n",
       "  <tbody>\n",
       "    <tr>\n",
       "      <th>count</th>\n",
       "      <td>1000.000000</td>\n",
       "      <td>1000.000000</td>\n",
       "      <td>1000.000000</td>\n",
       "      <td>1000.000000</td>\n",
       "      <td>1000.000000</td>\n",
       "      <td>1000.000000</td>\n",
       "      <td>1000.000000</td>\n",
       "    </tr>\n",
       "    <tr>\n",
       "      <th>mean</th>\n",
       "      <td>500.500000</td>\n",
       "      <td>0.404000</td>\n",
       "      <td>2.274000</td>\n",
       "      <td>29.695670</td>\n",
       "      <td>0.716000</td>\n",
       "      <td>0.571000</td>\n",
       "      <td>56.732249</td>\n",
       "    </tr>\n",
       "    <tr>\n",
       "      <th>std</th>\n",
       "      <td>288.819436</td>\n",
       "      <td>0.490943</td>\n",
       "      <td>0.840018</td>\n",
       "      <td>13.973015</td>\n",
       "      <td>1.312656</td>\n",
       "      <td>1.046926</td>\n",
       "      <td>98.014902</td>\n",
       "    </tr>\n",
       "    <tr>\n",
       "      <th>min</th>\n",
       "      <td>1.000000</td>\n",
       "      <td>0.000000</td>\n",
       "      <td>1.000000</td>\n",
       "      <td>0.420000</td>\n",
       "      <td>0.000000</td>\n",
       "      <td>0.000000</td>\n",
       "      <td>0.000000</td>\n",
       "    </tr>\n",
       "    <tr>\n",
       "      <th>25%</th>\n",
       "      <td>250.750000</td>\n",
       "      <td>0.000000</td>\n",
       "      <td>1.000000</td>\n",
       "      <td>22.000000</td>\n",
       "      <td>0.000000</td>\n",
       "      <td>0.000000</td>\n",
       "      <td>8.050000</td>\n",
       "    </tr>\n",
       "    <tr>\n",
       "      <th>50%</th>\n",
       "      <td>500.500000</td>\n",
       "      <td>0.000000</td>\n",
       "      <td>3.000000</td>\n",
       "      <td>27.000000</td>\n",
       "      <td>0.000000</td>\n",
       "      <td>0.000000</td>\n",
       "      <td>17.600000</td>\n",
       "    </tr>\n",
       "    <tr>\n",
       "      <th>75%</th>\n",
       "      <td>750.250000</td>\n",
       "      <td>1.000000</td>\n",
       "      <td>3.000000</td>\n",
       "      <td>38.000000</td>\n",
       "      <td>1.000000</td>\n",
       "      <td>1.000000</td>\n",
       "      <td>52.000000</td>\n",
       "    </tr>\n",
       "    <tr>\n",
       "      <th>max</th>\n",
       "      <td>1000.000000</td>\n",
       "      <td>1.000000</td>\n",
       "      <td>3.000000</td>\n",
       "      <td>80.000000</td>\n",
       "      <td>8.000000</td>\n",
       "      <td>6.000000</td>\n",
       "      <td>512.329200</td>\n",
       "    </tr>\n",
       "  </tbody>\n",
       "</table>\n",
       "</div>"
      ],
      "text/plain": [
       "       PassengerId     Survived       Pclass          Age        SibSp  \\\n",
       "count  1000.000000  1000.000000  1000.000000  1000.000000  1000.000000   \n",
       "mean    500.500000     0.404000     2.274000    29.695670     0.716000   \n",
       "std     288.819436     0.490943     0.840018    13.973015     1.312656   \n",
       "min       1.000000     0.000000     1.000000     0.420000     0.000000   \n",
       "25%     250.750000     0.000000     1.000000    22.000000     0.000000   \n",
       "50%     500.500000     0.000000     3.000000    27.000000     0.000000   \n",
       "75%     750.250000     1.000000     3.000000    38.000000     1.000000   \n",
       "max    1000.000000     1.000000     3.000000    80.000000     8.000000   \n",
       "\n",
       "             Parch         Fare  \n",
       "count  1000.000000  1000.000000  \n",
       "mean      0.571000    56.732249  \n",
       "std       1.046926    98.014902  \n",
       "min       0.000000     0.000000  \n",
       "25%       0.000000     8.050000  \n",
       "50%       0.000000    17.600000  \n",
       "75%       1.000000    52.000000  \n",
       "max       6.000000   512.329200  "
      ]
     },
     "execution_count": 13,
     "metadata": {},
     "output_type": "execute_result"
    }
   ],
   "source": [
    "#Statistical summary of the new data\n",
    "data.describe()"
   ]
  },
  {
   "cell_type": "markdown",
   "metadata": {},
   "source": [
    "Let's understand the relationship between some of the different variables."
   ]
  },
  {
   "cell_type": "code",
   "execution_count": 14,
   "metadata": {},
   "outputs": [
    {
     "data": {
      "text/plain": [
       "<seaborn.axisgrid.PairGrid at 0x7f378a1f4070>"
      ]
     },
     "execution_count": 14,
     "metadata": {},
     "output_type": "execute_result"
    },
    {
     "data": {
      "image/png": "[encoded data removed]",
      "text/plain": [
       "<Figure size 720x720 with 20 Axes>"
      ]
     },
     "metadata": {
      "needs_background": "light"
     },
     "output_type": "display_data"
    }
   ],
   "source": [
    "#Visualizing the relationship between some of the different variables\n",
    "sns.pairplot(data[['Survived', 'Pclass', 'Age', 'Fare', 'Sex']])"
   ]
  },
  {
   "cell_type": "markdown",
   "metadata": {},
   "source": [
    "### EDA - Correlation\n",
    "Let's understand the correlation between the different variables."
   ]
  },
  {
   "cell_type": "code",
   "execution_count": 15,
   "metadata": {},
   "outputs": [
    {
     "data": {
      "text/html": [
       "<div>\n",
       "<style scoped>\n",
       "    .dataframe tbody tr th:only-of-type {\n",
       "        vertical-align: middle;\n",
       "    }\n",
       "\n",
       "    .dataframe tbody tr th {\n",
       "        vertical-align: top;\n",
       "    }\n",
       "\n",
       "    .dataframe thead th {\n",
       "        text-align: right;\n",
       "    }\n",
       "</style>\n",
       "<table border=\"1\" class=\"dataframe\">\n",
       "  <thead>\n",
       "    <tr style=\"text-align: right;\">\n",
       "      <th></th>\n",
       "      <th>PassengerId</th>\n",
       "      <th>Survived</th>\n",
       "      <th>Pclass</th>\n",
       "      <th>Age</th>\n",
       "      <th>SibSp</th>\n",
       "      <th>Parch</th>\n",
       "      <th>Fare</th>\n",
       "    </tr>\n",
       "  </thead>\n",
       "  <tbody>\n",
       "    <tr>\n",
       "      <th>PassengerId</th>\n",
       "      <td>1.000000</td>\n",
       "      <td>0.060211</td>\n",
       "      <td>-0.091191</td>\n",
       "      <td>0.081574</td>\n",
       "      <td>0.187344</td>\n",
       "      <td>0.277960</td>\n",
       "      <td>0.389904</td>\n",
       "    </tr>\n",
       "    <tr>\n",
       "      <th>Survived</th>\n",
       "      <td>0.060211</td>\n",
       "      <td>1.000000</td>\n",
       "      <td>-0.305096</td>\n",
       "      <td>-0.052368</td>\n",
       "      <td>0.025996</td>\n",
       "      <td>0.109678</td>\n",
       "      <td>0.192999</td>\n",
       "    </tr>\n",
       "    <tr>\n",
       "      <th>Pclass</th>\n",
       "      <td>-0.091191</td>\n",
       "      <td>-0.305096</td>\n",
       "      <td>1.000000</td>\n",
       "      <td>-0.360709</td>\n",
       "      <td>0.003464</td>\n",
       "      <td>-0.041493</td>\n",
       "      <td>-0.320058</td>\n",
       "    </tr>\n",
       "    <tr>\n",
       "      <th>Age</th>\n",
       "      <td>0.081574</td>\n",
       "      <td>-0.052368</td>\n",
       "      <td>-0.360709</td>\n",
       "      <td>1.000000</td>\n",
       "      <td>-0.167255</td>\n",
       "      <td>-0.078370</td>\n",
       "      <td>0.082497</td>\n",
       "    </tr>\n",
       "    <tr>\n",
       "      <th>SibSp</th>\n",
       "      <td>0.187344</td>\n",
       "      <td>0.025996</td>\n",
       "      <td>0.003464</td>\n",
       "      <td>-0.167255</td>\n",
       "      <td>1.000000</td>\n",
       "      <td>0.439342</td>\n",
       "      <td>0.397940</td>\n",
       "    </tr>\n",
       "    <tr>\n",
       "      <th>Parch</th>\n",
       "      <td>0.277960</td>\n",
       "      <td>0.109678</td>\n",
       "      <td>-0.041493</td>\n",
       "      <td>-0.078370</td>\n",
       "      <td>0.439342</td>\n",
       "      <td>1.000000</td>\n",
       "      <td>0.431476</td>\n",
       "    </tr>\n",
       "    <tr>\n",
       "      <th>Fare</th>\n",
       "      <td>0.389904</td>\n",
       "      <td>0.192999</td>\n",
       "      <td>-0.320058</td>\n",
       "      <td>0.082497</td>\n",
       "      <td>0.397940</td>\n",
       "      <td>0.431476</td>\n",
       "      <td>1.000000</td>\n",
       "    </tr>\n",
       "  </tbody>\n",
       "</table>\n",
       "</div>"
      ],
      "text/plain": [
       "             PassengerId  Survived    Pclass       Age     SibSp     Parch  \\\n",
       "PassengerId     1.000000  0.060211 -0.091191  0.081574  0.187344  0.277960   \n",
       "Survived        0.060211  1.000000 -0.305096 -0.052368  0.025996  0.109678   \n",
       "Pclass         -0.091191 -0.305096  1.000000 -0.360709  0.003464 -0.041493   \n",
       "Age             0.081574 -0.052368 -0.360709  1.000000 -0.167255 -0.078370   \n",
       "SibSp           0.187344  0.025996  0.003464 -0.167255  1.000000  0.439342   \n",
       "Parch           0.277960  0.109678 -0.041493 -0.078370  0.439342  1.000000   \n",
       "Fare            0.389904  0.192999 -0.320058  0.082497  0.397940  0.431476   \n",
       "\n",
       "                 Fare  \n",
       "PassengerId  0.389904  \n",
       "Survived     0.192999  \n",
       "Pclass      -0.320058  \n",
       "Age          0.082497  \n",
       "SibSp        0.397940  \n",
       "Parch        0.431476  \n",
       "Fare         1.000000  "
      ]
     },
     "execution_count": 15,
     "metadata": {},
     "output_type": "execute_result"
    }
   ],
   "source": [
    "#Calculating the correlation\n",
    "data.corr()"
   ]
  },
  {
   "cell_type": "code",
   "execution_count": 16,
   "metadata": {},
   "outputs": [
    {
     "data": {
      "text/plain": [
       "<AxesSubplot:>"
      ]
     },
     "execution_count": 16,
     "metadata": {},
     "output_type": "execute_result"
    },
    {
     "data": {
      "image/png": "[encoded data removed]",
      "text/plain": [
       "<Figure size 600x400 with 2 Axes>"
      ]
     },
     "metadata": {
      "needs_background": "light"
     },
     "output_type": "display_data"
    }
   ],
   "source": [
    "#Visualizing the correlations using a heatmap\n",
    "plt.figure(figsize=(6,4),dpi=100)\n",
    "sns.heatmap(data.corr(), cmap=\"YlGnBu\")"
   ]
  },
  {
   "cell_type": "markdown",
   "metadata": {},
   "source": [
    "### EDA - Survival Rate by Different Variables\n",
    "Survival rates can be calculated for many variables (e.g., age, fare). For this EDA, I just wanted to focus on a few variables: gender, Pclass, and cabin."
   ]
  },
  {
   "cell_type": "markdown",
   "metadata": {},
   "source": [
    "#### Survival by Gender"
   ]
  },
  {
   "cell_type": "code",
   "execution_count": 17,
   "metadata": {},
   "outputs": [
    {
     "data": {
      "text/plain": [
       "Sex     Survived\n",
       "female  0           104\n",
       "        1           264\n",
       "male    0           492\n",
       "        1           140\n",
       "dtype: int64"
      ]
     },
     "execution_count": 17,
     "metadata": {},
     "output_type": "execute_result"
    }
   ],
   "source": [
    "#Calculating the total number of men and women and whether they survived\n",
    "data.groupby(['Sex', 'Survived']).size()"
   ]
  },
  {
   "cell_type": "code",
   "execution_count": 18,
   "metadata": {},
   "outputs": [
    {
     "name": "stdout",
     "output_type": "stream",
     "text": [
      "male: 22.15%\n",
      "female: 71.74%\n"
     ]
    }
   ],
   "source": [
    "#Calculating the survival rates for each gender\n",
    "unique_sex = data['Sex'].unique()\n",
    "\n",
    "for sex in unique_sex:\n",
    "    #Total number of passengers for each gender\n",
    "    count_gen = data[data['Sex'] == sex].shape[0]\n",
    "\n",
    "    #Total number of passengers who survived for each gender\n",
    "    count_gen_surv = data[(data['Sex'] == sex) & (data['Survived'] == 1)].shape[0]\n",
    "\n",
    "    #Survival rate of passengers for each gender\n",
    "    surv_rate_gen = count_gen_surv / count_gen * 100\n",
    "    rounded = round(surv_rate_gen,2)\n",
    "    print(str(sex) + \": \" + str(rounded)+\"%\")"
   ]
  },
  {
   "cell_type": "markdown",
   "metadata": {},
   "source": [
    "#### Survival by Pclass"
   ]
  },
  {
   "cell_type": "code",
   "execution_count": 19,
   "metadata": {},
   "outputs": [
    {
     "data": {
      "text/plain": [
       "Pclass  Survived\n",
       "1       0            98\n",
       "        1           155\n",
       "2       0           111\n",
       "        1           109\n",
       "3       0           387\n",
       "        1           140\n",
       "dtype: int64"
      ]
     },
     "execution_count": 19,
     "metadata": {},
     "output_type": "execute_result"
    }
   ],
   "source": [
    "#Calculating the total number of passengers for each Pclass and whether they survived\n",
    "data.groupby(['Pclass', 'Survived']).size()"
   ]
  },
  {
   "cell_type": "code",
   "execution_count": 20,
   "metadata": {},
   "outputs": [
    {
     "name": "stdout",
     "output_type": "stream",
     "text": [
      "Pclass 1: 61.26%\n",
      "Pclass 2: 49.55%\n",
      "Pclass 3: 26.57%\n"
     ]
    }
   ],
   "source": [
    "#Calculating the survival rates for each Pclass\n",
    "\n",
    "#Grabbing the unique Pclass values\n",
    "unique_pclass = data['Pclass'].unique()\n",
    "#Sorting the unique Pclass values\n",
    "unique_pclass.sort()\n",
    "\n",
    "for num in unique_pclass:\n",
    "    #Total number of passengers for each Pclass\n",
    "    count_pclass = data[data['Pclass'] == num].shape[0]\n",
    "\n",
    "    #Total number of passengers who survived for each Pclass\n",
    "    count_pclass_surv = data[(data['Pclass'] == num) & (data['Survived'] == 1)].shape[0]\n",
    "\n",
    "    #Survival rate of passengers for each Pclass\n",
    "    surv_rate_pclass = count_pclass_surv / count_pclass * 100\n",
    "    rounded = round(surv_rate_pclass, 2)\n",
    "    print(\"Pclass \" + str(unique_pclass[num-1]) + \": \" + str(rounded)+\"%\")"
   ]
  },
  {
   "cell_type": "markdown",
   "metadata": {},
   "source": [
    "#### Survival by Cabin"
   ]
  },
  {
   "cell_type": "code",
   "execution_count": 21,
   "metadata": {},
   "outputs": [
    {
     "data": {
      "text/plain": [
       "Cabin  Survived\n",
       "A      0            13\n",
       "       1            17\n",
       "B      0            17\n",
       "       1            41\n",
       "C      0           515\n",
       "       1           258\n",
       "D      0            16\n",
       "       1            32\n",
       "E      0            14\n",
       "       1            33\n",
       "F      0            14\n",
       "       1            17\n",
       "G      0             6\n",
       "       1             6\n",
       "T      0             1\n",
       "dtype: int64"
      ]
     },
     "execution_count": 21,
     "metadata": {},
     "output_type": "execute_result"
    }
   ],
   "source": [
    "#Calculating the total number of passengers for each cabin and whether they survived\n",
    "data.groupby(['Cabin', 'Survived']).size()"
   ]
  },
  {
   "cell_type": "code",
   "execution_count": 22,
   "metadata": {},
   "outputs": [
    {
     "name": "stdout",
     "output_type": "stream",
     "text": [
      "Cabin A: 4.62%\n",
      "Cabin B: 11.14%\n",
      "Cabin C: 70.11%\n",
      "Cabin D: 8.7%\n",
      "Cabin E: 8.97%\n",
      "Cabin F: 4.62%\n",
      "Cabin G: 1.63%\n",
      "Cabin T: 0.0%\n"
     ]
    }
   ],
   "source": [
    "#Calculating the survival rates for each cabin\n",
    "\n",
    "#Grabbing the unique Cabin values\n",
    "unique_cabin = data['Cabin'].unique()\n",
    "#Sorting the unique Cabin values\n",
    "unique_cabin.sort()\n",
    "\n",
    "for letter in unique_cabin:\n",
    "    #Total number of passengers for each cabin\n",
    "    count_cab = data[data['Cabin'] == letter].shape[0]\n",
    "    \n",
    "    #Total number of passengers who survived for each Pclass\n",
    "    count_cab_surv = data[(data['Cabin'] == letter) & (data['Survived'] == 1)].shape[0]\n",
    "\n",
    "    #Survival rate of Pclass passengers for each Pclass\n",
    "    surv_rate_cab = count_cab_surv / count_gen * 100\n",
    "    rounded = round(surv_rate_cab,2)\n",
    "    print(\"Cabin \" + str(letter) + \": \" + str(rounded)+\"%\")"
   ]
  },
  {
   "cell_type": "markdown",
   "metadata": {
    "id": "Sn5RhfmhH34H"
   },
   "source": [
    "# Data Processing and normalization"
   ]
  },
  {
   "cell_type": "code",
   "execution_count": 23,
   "metadata": {},
   "outputs": [],
   "source": [
    "#Changing the 'Sex' labels to the values 0, 1 instead of male and female\n",
    "#Male = 1; Female = 0\n",
    "le = LabelEncoder()\n",
    "data['Sex'] = le.fit_transform(data['Sex'])"
   ]
  },
  {
   "cell_type": "code",
   "execution_count": 24,
   "metadata": {},
   "outputs": [],
   "source": [
    "#Changing the 'Cabin' labels to the values 0, 1, etc. instead of A, B, etc.\n",
    "#A = 0; B = 1, C = 2, D = 3, E = 4, F = 5, G = 6, T = 7\n",
    "le = LabelEncoder()\n",
    "data['Cabin'] = le.fit_transform(data['Cabin'])"
   ]
  },
  {
   "cell_type": "code",
   "execution_count": 25,
   "metadata": {
    "id": "Kca5qZhBHWNz"
   },
   "outputs": [],
   "source": [
    "#Specifying X and y from the data for the models\n",
    "X = data[['Cabin', 'Pclass', 'Sex', 'Age', 'SibSp', 'Parch', 'Fare']]\n",
    "y = data['Survived']"
   ]
  },
  {
   "cell_type": "code",
   "execution_count": 26,
   "metadata": {},
   "outputs": [],
   "source": [
    "#Creating training and testing variables for the models\n",
    "X_train, X_test, y_train, y_test = train_test_split(X, y, test_size=0.3, random_state=20)"
   ]
  },
  {
   "cell_type": "code",
   "execution_count": 27,
   "metadata": {},
   "outputs": [],
   "source": [
    "#Using standard scaler to standardize the data\n",
    "scale = StandardScaler()\n",
    "\n",
    "X_train_scaled = scale.fit_transform(X_train)\n",
    "X_test_scaled = scale.transform(X_test)"
   ]
  },
  {
   "cell_type": "markdown",
   "metadata": {
    "id": "HryoSeNXJ_qo"
   },
   "source": [
    "# Creating ML model 1\n",
    "Creating a Logistic Regression model to predict survival."
   ]
  },
  {
   "cell_type": "code",
   "execution_count": 28,
   "metadata": {},
   "outputs": [
    {
     "data": {
      "text/plain": [
       "LogisticRegression(random_state=20, solver='liblinear')"
      ]
     },
     "execution_count": 28,
     "metadata": {},
     "output_type": "execute_result"
    }
   ],
   "source": [
    "#Creating a logistic regression model\n",
    "model = LogisticRegression(solver='liblinear', random_state=20)\n",
    "model.fit(X_train_scaled, y_train)"
   ]
  },
  {
   "cell_type": "markdown",
   "metadata": {
    "id": "_VxNaoutK4AD"
   },
   "source": [
    "## Prediction on Test data"
   ]
  },
  {
   "cell_type": "code",
   "execution_count": 29,
   "metadata": {},
   "outputs": [],
   "source": [
    "#Predicting values from the testing set\n",
    "y_pred_1 = model.predict(X_test_scaled)"
   ]
  },
  {
   "cell_type": "markdown",
   "metadata": {
    "id": "lNQpdE7kLCy5"
   },
   "source": [
    "## Model 1 Performance"
   ]
  },
  {
   "cell_type": "code",
   "execution_count": 30,
   "metadata": {
    "collapsed": false,
    "jupyter": {
     "outputs_hidden": false
    }
   },
   "outputs": [
    {
     "name": "stdout",
     "output_type": "stream",
     "text": [
      "Model accuracy for training: 76.71 %\n"
     ]
    }
   ],
   "source": [
    "#Calculating how well the model performed in training\n",
    "accuracy_score = round(model.score(X_train_scaled, y_train) * 100, 2)\n",
    "print(\"Model accuracy for training:\", accuracy_score, \"%\")"
   ]
  },
  {
   "cell_type": "code",
   "execution_count": 31,
   "metadata": {},
   "outputs": [
    {
     "name": "stdout",
     "output_type": "stream",
     "text": [
      "Model accuracy for testing: 77.0 %\n"
     ]
    }
   ],
   "source": [
    "#Calculating how well the model performed in testing\n",
    "accuracy_score = round(model.score(X_test_scaled, y_test) * 100, 2)\n",
    "print(\"Model accuracy for testing:\", accuracy_score, \"%\")"
   ]
  },
  {
   "cell_type": "markdown",
   "metadata": {},
   "source": [
    "Let's try building another model to see if we can achieve greater accuracy."
   ]
  },
  {
   "cell_type": "markdown",
   "metadata": {
    "id": "tD9vFgUTL8qk"
   },
   "source": [
    "# Creating ML model 2\n",
    "Creating a decision tree model to predict survival."
   ]
  },
  {
   "cell_type": "code",
   "execution_count": 32,
   "metadata": {},
   "outputs": [
    {
     "data": {
      "text/plain": [
       "DecisionTreeRegressor(max_depth=3)"
      ]
     },
     "execution_count": 32,
     "metadata": {},
     "output_type": "execute_result"
    }
   ],
   "source": [
    "#Creating a decision tree regressor with a maximum depth of 3\n",
    "DTR = DecisionTreeRegressor(max_depth=3)\n",
    "DTR.fit(X_train_scaled, y_train)"
   ]
  },
  {
   "cell_type": "markdown",
   "metadata": {},
   "source": [
    "## Prediction on Test data"
   ]
  },
  {
   "cell_type": "code",
   "execution_count": 33,
   "metadata": {},
   "outputs": [],
   "source": [
    "#Predicting values from the testing set\n",
    "y_pred_2 = DTR.predict(X_test_scaled)"
   ]
  },
  {
   "cell_type": "markdown",
   "metadata": {},
   "source": [
    "## Model 2 Performance"
   ]
  },
  {
   "cell_type": "code",
   "execution_count": 34,
   "metadata": {
    "collapsed": false,
    "jupyter": {
     "outputs_hidden": false
    }
   },
   "outputs": [
    {
     "name": "stdout",
     "output_type": "stream",
     "text": [
      "Model accuracy for training: 38.12 %\n"
     ]
    }
   ],
   "source": [
    "#Calculating how well the model performed in training\n",
    "accuracy_score = round(DTR.score(X_train_scaled, y_train) * 100, 2)\n",
    "print(\"Model accuracy for training:\", accuracy_score, \"%\")"
   ]
  },
  {
   "cell_type": "code",
   "execution_count": 35,
   "metadata": {},
   "outputs": [
    {
     "name": "stdout",
     "output_type": "stream",
     "text": [
      "Model accuracy for testing: 35.93 %\n"
     ]
    }
   ],
   "source": [
    "#Calculating how well the model performed in testing\n",
    "accuracy_score = round(DTR.score(X_test_scaled, y_test) * 100, 2)\n",
    "print(\"Model accuracy for testing:\", accuracy_score, \"%\")"
   ]
  },
  {
   "cell_type": "markdown",
   "metadata": {},
   "source": [
    "# Report and insight from your analysis"
   ]
  },
  {
   "cell_type": "markdown",
   "metadata": {},
   "source": [
    "I made a few different models (i.e., linear regression, logistic regression, decision tree) for this project and learned that linear regression seems to work better for continuous variables and therefore, I did not use this type of model is this analysis. In contrast, I learned logistic regression and decision tree work better for categorical or boolean variables. Because I wanted to create models to predict survival (a boolean variable), I created two models to support this: logistic regression and decision tree. The results of the model show that for the Titanic dataset, the logistic regression model is more accurate than the decision tree model for predicting survivability. "
   ]
  }
 ],
 "metadata": {
  "colab": {
   "provenance": []
  },
  "kernelspec": {
   "display_name": "Python 3 (ipykernel)",
   "language": "python",
   "name": "python3"
  },
  "language_info": {
   "codemirror_mode": {
    "name": "ipython",
    "version": 3
   },
   "file_extension": ".py",
   "mimetype": "text/x-python",
   "name": "python",
   "nbconvert_exporter": "python",
   "pygments_lexer": "ipython3",
   "version": "3.9.7"
  }
 },
 "nbformat": 4,
 "nbformat_minor": 4
}
